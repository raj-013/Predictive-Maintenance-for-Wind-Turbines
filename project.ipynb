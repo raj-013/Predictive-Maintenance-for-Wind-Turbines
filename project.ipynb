{
 "cells": [
  {
   "cell_type": "code",
   "execution_count": 2,
   "metadata": {},
   "outputs": [],
   "source": [
    "import pyspark\n",
    "import os\n",
    "from pyspark.sql import SparkSession\n",
    "from pyspark.sql.functions import *\n",
    "import pickle"
   ]
  },
  {
   "cell_type": "code",
   "execution_count": 3,
   "metadata": {},
   "outputs": [
    {
     "name": "stderr",
     "output_type": "stream",
     "text": [
      "Setting default log level to \"WARN\".\n",
      "To adjust logging level use sc.setLogLevel(newLevel). For SparkR, use setLogLevel(newLevel).\n",
      "23/12/20 16:32:33 WARN NativeCodeLoader: Unable to load native-hadoop library for your platform... using builtin-java classes where applicable\n",
      "23/12/20 16:32:45 WARN GarbageCollectionMetrics: To enable non-built-in garbage collector(s) List(G1 Concurrent GC), users should configure it(them) to spark.eventLog.gcMetrics.youngGenerationGarbageCollectors or spark.eventLog.gcMetrics.oldGenerationGarbageCollectors\n",
      "                                                                                \r"
     ]
    },
    {
     "name": "stdout",
     "output_type": "stream",
     "text": [
      "+--------------------+\n",
      "|               value|\n",
      "+--------------------+\n",
      "|2019:02:05:20:42:...|\n",
      "|2019:10:24:02:18:...|\n",
      "|2019:08:23:05:33:...|\n",
      "|2019:03:21:10:36:...|\n",
      "|2019:05:16:10:39:...|\n",
      "|2019:09:06:07:43:...|\n",
      "|2019:05:07:09:06:...|\n",
      "|2019:08:28:05:46:...|\n",
      "|2019:03:28:11:27:...|\n",
      "|2019:02:20:15:36:...|\n",
      "|2019:08:16:21:13:...|\n",
      "|2019:11:29:05:49:...|\n",
      "|2019:08:14:20:28:...|\n",
      "|2019:12:14:02:56:...|\n",
      "|2019:06:03:22:55:...|\n",
      "|2019:03:27:15:44:...|\n",
      "|2019:02:25:12:01:...|\n",
      "|2019:02:24:22:52:...|\n",
      "|2019:08:09:12:12:...|\n",
      "|2019:03:16:04:39:...|\n",
      "+--------------------+\n",
      "only showing top 20 rows\n",
      "\n"
     ]
    }
   ],
   "source": [
    "# Set up PySpark\n",
    "spark = SparkSession.builder \\\n",
    "    .appName(\"CSVFilesReader\") \\\n",
    "    .getOrCreate()\n",
    "\n",
    "# Get the current working directory\n",
    "current_dir = os.getcwd() + \"/data/\"\n",
    "\n",
    "# Find all CSV files in the current directory\n",
    "csv_files = sorted([file for file in os.listdir(current_dir) if file.endswith(\".csv\")], key=lambda x: os.path.getctime(os.path.join(current_dir, x)), reverse=True)\n",
    "\n",
    "# Read all CSV files into a single DataFrame\n",
    "df = spark.read.option(\"header\", \"true\").csv([os.path.join(current_dir, file) for file in csv_files])\n",
    "\n",
    "# Display the DataFrame\n",
    "df.show()"
   ]
  },
  {
   "cell_type": "code",
   "execution_count": 4,
   "metadata": {},
   "outputs": [
    {
     "name": "stderr",
     "output_type": "stream",
     "text": [
      "23/12/20 16:33:08 WARN SparkStringUtils: Truncated the string representation of a plan since it was too large. This behavior can be adjusted by setting 'spark.sql.debug.maxToStringFields'.\n"
     ]
    },
    {
     "name": "stdout",
     "output_type": "stream",
     "text": [
      "+-------------------+---------+------+------------------+------------------+------------------+----------+----------+--------------+----------+----------+------------+--------------+-----------+---------+-----------------+------------------+------------------+------------------+---------------+-------------------+---------+---------+--------+---------------+------+-----------------+---+---+---+-----------+------------------+------------+-----------+------------------+-----------+-------------+------------+-------------+------------------+\n",
      "|Log Time           |Log Time2|SN    |Software rev      |opversion         |Inv Time          |watt-hours|Voltage In|Voltage DC Bus|Voltage L1|Voltage L2|voltage rise|min v from rpm|Current out|Power out|Power Reg        |Power max         |Line Frequency    |Inverter Frequency|Line Resistance|RPM                |Windspeed|TargetTSR|Ramp RPM|Boost pulswidth|MaxBPW|current amplitude|T1 |T2 |T3 |Event count|Last event code   |Event status|Event value|Turbine-status    |Grid status|System status|Slave Status|Access Status|Timer             |\n",
      "+-------------------+---------+------+------------------+------------------+------------------+----------+----------+--------------+----------+----------+------------+--------------+-----------+---------+-----------------+------------------+------------------+------------------+---------------+-------------------+---------+---------+--------+---------------+------+-----------------+---+---+---+-----------+------------------+------------+-----------+------------------+-----------+-------------+------------+-------------+------------------+\n",
      "|2019:02:05:20:42:00|437      |107603|25.649297608294   |26.197298550882987|22.0380295120558  |151       |0         |250           |1556088772|330       |300         |2400          |565        |12       |9.192211454928183|131.85009873157543|132.04603925500706|133.0704553284275 |457632         |0.6504152580203663 |6152     |0        |0       |0              |0     |202              |0  |2  |0  |6          |60.03352564005807 |88          |1          |373.7427738931277 |407        |107          |310         |17           |60.08289757433813 |\n",
      "|2019:10:24:02:18:00|297      |107603|38.06960362876998 |37.213211661449165|34.2025936123202  |105       |0         |631           |1552583974|330       |300         |2400          |62         |3        |6.913566024060856|88.4793768858508  |129.00177386985598|130.74515884903303|429092         |0.5481351066011121 |5925     |6013     |0       |2              |0     |202              |0  |2  |0  |0          |59.972222124232026|63          |0          |367.4561982484447 |529        |12           |363         |105          |59.90809203701843 |\n",
      "|2019:08:23:05:33:00|360      |107603|30.673667483325698|29.89329751505138 |24.190538631042   |107       |0         |588           |1552436362|330       |300         |2400          |156        |23       |6.884878926628517|88.41417701103347 |128.88178650751652|130.72605463709405|424283         |0.1703432074126613 |5917     |0        |0       |2              |32768 |202              |0  |2  |256|5          |60.044722718734704|59          |0          |367.2185328519743 |500        |107          |263         |42           |60.10237176954353 |\n",
      "|2019:03:21:10:36:18|687      |107603|15.92669610212007 |15.667113617748182|14.116709251207016|0         |0         |250           |1556088729|330       |300         |2400          |0          |0        |6.994364988880989|23.969818920963007|128.62377008055046|129.77667474937445|457632         |0.14771958787474432|6152     |0        |0       |2              |0     |202              |0  |2  |0  |0          |60.01626433430006 |0           |1          |313.0784715726335 |0          |107          |273         |0            |59.900631535830726|\n",
      "|2019:05:16:10:39:01|083      |107603|19.556902643284502|20.007845819484192|17.054609843394203|97        |0         |250           |1556088437|330       |300         |2400          |0          |0        |6.885389108925665|94.10679236403084 |129.47737946376074|130.770226117874  |457632         |0.16664544188257424|6152     |6002     |0       |0              |0     |202              |0  |2  |0  |4          |59.98251920217626 |61          |1          |318.2706260200699 |0          |111          |252         |0            |60.07906723543361 |\n",
      "|2019:09:06:07:43:01|453      |107603|24.191429225439787|23.86233874559839 |23.050106878452063|0         |0         |250           |1556088744|330       |300         |2400          |0          |0        |6.816210311546456|22.779053296140773|129.99672594371077|131.47622611597473|457632         |0.13483619099766658|6152     |0        |0       |0              |32768 |202              |0  |2  |0  |0          |59.993653210238335|0           |1          |317.915181130774  |0          |111          |212         |0            |59.88762111402271 |\n",
      "|2019:05:07:09:06:00|227      |107603|21.593764006623317|21.757960850470045|17.041168556181354|185       |0         |250           |1556088785|330       |300         |2400          |187        |733      |6.858800537565912|161.906500005009  |131.97834341777488|132.95024276960322|457632         |0.9455966747700586 |6152     |6001     |0       |0              |0     |202              |0  |2  |256|5          |59.92229072421829 |105         |0          |375.07739674423215|249        |111          |256         |215          |59.93203820497918 |\n",
      "|2019:08:28:05:46:00|334      |107603|25.885720282488183|26.14504890746175 |22.44706139879272 |155       |0         |595           |1554237530|330       |300         |2400          |1032       |559      |6.852006239181719|122.93204322774254|128.87250415208547|130.73499522547425|450640         |0.6778123261092697 |5997     |6013     |0       |0              |32768 |202              |0  |2  |256|5          |60.03786651135117 |89          |0          |368.2621615750337 |496        |111          |262         |33           |60.11136581360974 |\n",
      "|2019:03:28:11:27:00|359      |107603|15.905668943113781|15.609304172713239|14.116709251207016|0         |0         |250           |1556088748|330       |300         |2400          |0          |0        |6.891581481839239|22.841951592486293|130.61425942770728|132.05157659299584|457632         |0.10688639655779297|6152     |6002     |0       |0              |0     |202              |0  |2  |0  |3          |59.98409026757727 |0           |1          |318.05544330363625|0          |111          |217         |0            |59.99505573257491 |\n",
      "|2019:02:20:15:36:01|328      |107603|26.88346693587082 |29.415069959909303|25.566104026207906|110       |0         |654           |1555719725|330       |300         |2400          |129        |77       |6.988953057114486|75.86769701966696 |129.81094024764607|130.97672421046954|456128         |0.5455646009213524 |6134     |6013     |0       |0              |32768 |202              |0  |2  |256|0          |59.96026953584423 |63          |0          |368.73576830217354|495        |111          |160         |35           |59.929751724425444|\n",
      "|2019:08:16:21:13:01|332      |107603|26.433176536780227|26.90362159037031 |23.25229743998789 |180       |0         |250           |1551347369|330       |300         |2400          |217        |161      |6.759300250369051|154.10197630921903|129.20183593421243|131.12625545110203|422216         |1.6731956278510915 |5726     |5997     |0       |0              |32768 |202              |0  |2  |0  |9          |60.02262281145668 |104         |0          |367.6933570663459 |450        |107          |238         |165          |60.09658924095173 |\n",
      "|2019:11:29:05:49:00|733      |107603|16.49292782885404 |16.82848069009354 |14.105155794118435|0         |0         |250           |1556088699|330       |300         |2400          |0          |0        |6.987008637168401|22.856088930985425|129.92376601825237|131.65773231606727|457632         |0.15189677914633648|6152     |0        |0       |2              |0     |202              |0  |2  |0  |0          |59.96170818189128 |0           |1          |312.73683418236   |0          |107          |229         |0            |59.88116654710082 |\n",
      "|2019:08:14:20:28:00|750      |107603|27.31952662460826 |26.552424133813474|26.593547245995435|91        |0         |485           |1556088743|330       |300         |2400          |52         |86       |6.991115661083313|78.82123487105417 |127.74813612942235|128.01675122134083|457632         |0.1623542998400808 |6152     |6011     |0       |0              |0     |202              |0  |2  |256|4          |59.948333383817136|49          |0          |318.8293943445839 |0          |111          |356         |0            |59.887541207147095|\n",
      "|2019:12:14:02:56:00|530      |107603|31.01135343559872 |31.04169441601116 |29.477611230823094|0         |0         |250           |1556088770|330       |300         |2400          |0          |0        |6.810994277753707|22.864076211853536|130.3990039226497 |131.72778712532454|457632         |0.13596226580517395|6152     |0        |0       |0              |32768 |202              |0  |2  |0  |0          |59.99571629995364 |0           |1          |317.50584580741344|0          |111          |262         |0            |60.099483645102595|\n",
      "|2019:06:03:22:55:00|241      |107603|16.382139850664334|16.29500556942211 |14.44099429021694 |0         |0         |250           |1556088751|330       |300         |2400          |0          |0        |6.750487733033879|23.084680890704476|131.07373732634878|132.6973243534754 |457632         |0.5185536597124883 |6152     |6002     |0       |2              |0     |202              |0  |2  |0  |1          |59.9173204597399  |0           |1          |318.98016656777327|0          |107          |211         |0            |59.92405775927371 |\n",
      "|2019:03:27:15:44:00|906      |107603|20.11640121826049 |19.663768694903773|16.38846618864702 |133       |0         |250           |1556088736|330       |300         |2400          |98         |91       |9.192069586233556|116.78079742885747|129.20372134735806|130.2424367378153 |457632         |0.5650238475449441 |6152     |0        |0       |0              |32768 |202              |0  |2  |256|4          |59.97163185841382 |76          |1          |368.81417373242294|406        |111          |278         |113          |59.919742964136205|\n",
      "|2019:02:25:12:01:02|562      |107603|16.437661234707384|16.225003562844222|14.189276033225054|70        |0         |582           |1556088771|330       |300         |2400          |0          |0        |6.876368904919218|22.590558960939234|128.19195918548212|129.7645698837132 |457632         |0.5100571836586459 |6152     |5997     |0       |0              |0     |202              |0  |2  |0  |0          |59.99357007006358 |0           |8          |313.93860645309394|0          |111          |290         |0            |59.915331228783174|\n",
      "|2019:02:24:22:52:00|093      |107603|25.778492410209584|25.806325433974415|21.381195190241122|0         |0         |250           |1555517913|330       |300         |2400          |0          |0        |6.839725592639297|22.635332959878   |128.70672153415944|130.04120246641907|455971         |0.132920960765332  |6057     |6000     |0       |0              |0     |202              |0  |2  |256|0          |59.94988625580619 |0           |1          |313.98766144170406|117        |111          |234         |0            |59.87678341236653 |\n",
      "|2019:08:09:12:12:01|055      |107603|22.557082236780843|22.89305340410574 |20.43161833651102 |246       |0         |250           |1556088785|330       |300         |2400          |1009       |787      |6.882587476731715|202.16075309980658|130.0901235786645 |132.64061490840393|457632         |3.973503037016199  |6152     |0        |4096    |0              |0     |202              |0  |2  |256|9          |59.99611558186523 |142         |0          |346.64537614073197|483        |111          |160         |419          |59.9102525221539  |\n",
      "|2019:03:16:04:39:01|359      |107603|18.505477783954667|18.371638684501203|16.013088938233388|116       |0         |420           |1556060813|330       |300         |2400          |12         |90       |9.199603619132976|104.69172774229227|129.6834607651137 |130.42010393644378|457620         |0.15956944395613393|6151     |6013     |0       |0              |32768 |202              |0  |2  |256|4          |59.99414505271962 |73          |8          |365.534804184259  |416        |111          |297         |28           |60.08633867407799 |\n",
      "+-------------------+---------+------+------------------+------------------+------------------+----------+----------+--------------+----------+----------+------------+--------------+-----------+---------+-----------------+------------------+------------------+------------------+---------------+-------------------+---------+---------+--------+---------------+------+-----------------+---+---+---+-----------+------------------+------------+-----------+------------------+-----------+-------------+------------+-------------+------------------+\n",
      "only showing top 20 rows\n",
      "\n"
     ]
    }
   ],
   "source": [
    "df2 = df\n",
    "df2 = (df2\n",
    ".withColumn(\"Log Time\", split(\"value\", \",\")[0])\n",
    ".withColumn(\"Log Time2\", split(\"value\", \",\")[1])\n",
    ".withColumn(\"SN\", split(\"value\", \",\")[2])\n",
    ".withColumn(\"Software rev\", split(\"value\", \",\")[3])\n",
    ".withColumn(\"opversion\", split(\"value\", \",\")[4])\n",
    ".withColumn(\"Inv Time\", split(\"value\", \",\")[5])\n",
    ".withColumn(\"watt-hours\", split(\"value\", \",\")[6])\n",
    ".withColumn(\"Voltage In\", split(\"value\", \",\")[7])\n",
    ".withColumn(\"Voltage DC Bus\", split(\"value\", \",\")[8])\n",
    ".withColumn(\"Voltage L1\", split(\"value\", \",\")[9])\n",
    ".withColumn(\"Voltage L2\", split(\"value\", \",\")[10])\n",
    ".withColumn(\"voltage rise\", split(\"value\", \",\")[11])\n",
    ".withColumn(\"min v from rpm\", split(\"value\", \",\")[12])\n",
    ".withColumn(\"Current out\", split(\"value\", \",\")[13])\n",
    ".withColumn(\"Power out\", split(\"value\", \",\")[14])\n",
    ".withColumn(\"Power Reg\", split(\"value\", \",\")[15])\n",
    ".withColumn(\"Power max\", split(\"value\", \",\")[16])\n",
    ".withColumn(\"Line Frequency\", split(\"value\", \",\")[17])\n",
    ".withColumn(\"Inverter Frequency\", split(\"value\", \",\")[18])\n",
    ".withColumn(\"Line Resistance\", split(\"value\", \",\")[19])\n",
    ".withColumn(\"RPM\", split(\"value\", \",\")[20])\n",
    ".withColumn(\"Windspeed\", split(\"value\", \",\")[21])\n",
    ".withColumn(\"TargetTSR\", split(\"value\", \",\")[22])\n",
    ".withColumn(\"Ramp RPM\", split(\"value\", \",\")[23])\n",
    ".withColumn(\"Boost pulswidth\", split(\"value\", \",\")[24])\n",
    ".withColumn(\"MaxBPW\", split(\"value\", \",\")[25])\n",
    ".withColumn(\"current amplitude\", split(\"value\", \",\")[26])\n",
    ".withColumn(\"T1\", split(\"value\", \",\")[27])\n",
    ".withColumn(\"T2\", split(\"value\", \",\")[28])\n",
    ".withColumn(\"T3\", split(\"value\", \",\")[29])\n",
    ".withColumn(\"Event count\", split(\"value\", \",\")[30])\n",
    ".withColumn(\"Last event code\", split(\"value\", \",\")[31])\n",
    ".withColumn(\"Event status\", split(\"value\", \",\")[32])\n",
    ".withColumn(\"Event value\", split(\"value\", \",\")[33])\n",
    ".withColumn(\"Turbine-status\", split(\"value\", \",\")[34])\n",
    ".withColumn(\"Grid status\", split(\"value\", \",\")[35])\n",
    ".withColumn(\"System status\", split(\"value\", \",\")[36])\n",
    ".withColumn(\"Slave Status\", split(\"value\", \",\")[37])\n",
    ".withColumn(\"Access Status\", split(\"value\", \",\")[38])\n",
    ".withColumn(\"Timer\", split(\"value\", \",\")[39])\n",
    ")\n",
    "df2 = df2.drop(\"value\")\n",
    "df2.show(truncate=False)"
   ]
  },
  {
   "cell_type": "code",
   "execution_count": 5,
   "metadata": {},
   "outputs": [
    {
     "name": "stderr",
     "output_type": "stream",
     "text": [
      "                                                                                \r"
     ]
    }
   ],
   "source": [
    "unique_sn_values = [row.SN for row in df2.select(\"SN\").distinct().collect()]\n",
    "\n",
    "# Create a list to store separate dataframes for each SN value\n",
    "df_list = []\n",
    "\n",
    "# Iterate through unique SN values\n",
    "for sn_value in unique_sn_values:\n",
    "    # Filter the dataframe for each SN value and append to the list\n",
    "    df_sn = df2.filter(col(\"SN\") == sn_value)\n",
    "    df_list.append(df_sn)"
   ]
  },
  {
   "cell_type": "code",
   "execution_count": 9,
   "metadata": {},
   "outputs": [
    {
     "name": "stderr",
     "output_type": "stream",
     "text": [
      "[Stage 8:====================================================> (654 + 10) / 672]\r"
     ]
    },
    {
     "name": "stdout",
     "output_type": "stream",
     "text": [
      "4393 40\n"
     ]
    },
    {
     "name": "stderr",
     "output_type": "stream",
     "text": [
      "                                                                                \r"
     ]
    }
   ],
   "source": [
    "## Preprocessing\n",
    "print(df_list[0].count(), len(df_list[0].columns))"
   ]
  },
  {
   "cell_type": "code",
   "execution_count": 41,
   "metadata": {},
   "outputs": [
    {
     "data": {
      "text/plain": [
       "['Log Time',\n",
       " 'Log Time2',\n",
       " 'SN',\n",
       " 'Software rev',\n",
       " 'opversion',\n",
       " 'Inv Time',\n",
       " 'watt-hours',\n",
       " 'Voltage In',\n",
       " 'Voltage DC Bus',\n",
       " 'Voltage L1',\n",
       " 'Voltage L2',\n",
       " 'voltage rise',\n",
       " 'min v from rpm',\n",
       " 'Current out',\n",
       " 'Power out',\n",
       " 'Power Reg',\n",
       " 'Power max',\n",
       " 'Line Frequency',\n",
       " 'Inverter Frequency',\n",
       " 'Line Resistance',\n",
       " 'RPM',\n",
       " 'Windspeed',\n",
       " 'TargetTSR',\n",
       " 'Ramp RPM',\n",
       " 'Boost pulswidth',\n",
       " 'MaxBPW',\n",
       " 'current amplitude',\n",
       " 'T1',\n",
       " 'T2',\n",
       " 'T3',\n",
       " 'Event count',\n",
       " 'Last event code',\n",
       " 'Event status',\n",
       " 'Event value',\n",
       " 'Turbine-status',\n",
       " 'Grid status',\n",
       " 'System status',\n",
       " 'Slave Status',\n",
       " 'Access Status',\n",
       " 'Timer']"
      ]
     },
     "execution_count": 41,
     "metadata": {},
     "output_type": "execute_result"
    }
   ],
   "source": [
    "df_list[0].columns"
   ]
  },
  {
   "cell_type": "code",
   "execution_count": 48,
   "metadata": {},
   "outputs": [],
   "source": [
    "df1 = df_list[0]"
   ]
  },
  {
   "cell_type": "code",
   "execution_count": 49,
   "metadata": {},
   "outputs": [
    {
     "name": "stderr",
     "output_type": "stream",
     "text": [
      "                                                                                \r"
     ]
    },
    {
     "data": {
      "text/plain": [
       "(4393, 40)"
      ]
     },
     "execution_count": 49,
     "metadata": {},
     "output_type": "execute_result"
    }
   ],
   "source": [
    "df_list[0].count(), len(df_list[0].columns)"
   ]
  },
  {
   "cell_type": "code",
   "execution_count": 50,
   "metadata": {},
   "outputs": [],
   "source": [
    "df1 = df1.drop(\"Grid status\", \"System status\", \"Slave Status\", \"Access Status\", \"SN#\", \"Inv Time\", \"Software rev\", \"opversion\", \"Timer\", \"voltage rise\", \"watt-hours\", \"Log Time\", \"Log Time2\", \"Turbine status\")"
   ]
  },
  {
   "cell_type": "code",
   "execution_count": 51,
   "metadata": {},
   "outputs": [
    {
     "name": "stderr",
     "output_type": "stream",
     "text": [
      "[Stage 54:=================================================>   (623 + 10) / 672]\r"
     ]
    },
    {
     "name": "stdout",
     "output_type": "stream",
     "text": [
      "20 28\n"
     ]
    },
    {
     "name": "stderr",
     "output_type": "stream",
     "text": [
      "                                                                                \r"
     ]
    }
   ],
   "source": [
    "df_split = df1.limit(20)\n",
    "print(df_split.count(), len(df1.columns))"
   ]
  },
  {
   "cell_type": "code",
   "execution_count": null,
   "metadata": {},
   "outputs": [],
   "source": [
    "for dfs in df_list:\n",
    "    dfs[dfs.apply(lambda row: row.isnull().any(), axis=1)]\n",
    "    dfs[dfs.duplicated()]"
   ]
  },
  {
   "cell_type": "code",
   "execution_count": null,
   "metadata": {},
   "outputs": [],
   "source": [
    "df_list[0][df_list[0]['Turbine status'] == 0][['Power out', 'Turbine status']]"
   ]
  },
  {
   "cell_type": "code",
   "execution_count": null,
   "metadata": {},
   "outputs": [],
   "source": [
    "import pandas as pd\n",
    "from sklearn.feature_selection import mutual_info_classif\n",
    "\n",
    "# Assuming 'df' is your pandas DataFrame with a target column 'target' and other features\n",
    "# You may need to replace 'df' with your actual DataFrame name\n",
    "\n",
    "# Extract the target column\n",
    "target_column = 'Turbine status'  # replace with your target column name\n",
    "y = df_list[0].iloc[:, 1:][target_column]\n",
    "\n",
    "# Extract the feature columns\n",
    "X = df_list[0].iloc[:, 1:].drop(columns=[target_column])\n",
    "\n",
    "# Calculate information gain for each feature\n",
    "info_gain = mutual_info_classif(X, y, discrete_features='auto')\n",
    "\n",
    "# Create a DataFrame to display the results\n",
    "info_gain_df = pd.DataFrame({'Feature': X.columns, 'Information Gain': info_gain})\n",
    "\n",
    "# Sort the DataFrame by information gain in descending order\n",
    "info_gain_df = info_gain_df.sort_values(by='Information Gain', ascending=False)\n",
    "\n",
    "# Display the results\n",
    "print(info_gain_df)"
   ]
  },
  {
   "cell_type": "code",
   "execution_count": null,
   "metadata": {},
   "outputs": [],
   "source": [
    "#Import libraries\n",
    "import numpy as np\n",
    "import pandas as pd\n",
    "from tensorflow.keras.layers import LSTM, Dense\n",
    "from tensorflow.keras.models import Sequential\n",
    "from sklearn.preprocessing import StandardScaler\n",
    "\n",
    "#Read data\n",
    "scada_df = pd.read_csv(\"data_swt_iee_usp_2018.csv\", sep=\";\")\n",
    "\n",
    "#Drop rows that can leak data\n",
    "scada_df = scada_df.drop([\"Grid status\", \"System status\", \"Slave Status\", \"Access Status\",\n",
    "                          \"SN#\", \"Inv Time\", \"Software rev\", \"opversion\", \"Timer\",\n",
    "                          \"voltage rise\", \"watt-hours\"], axis=1)\n",
    "\n",
    "\n",
    "mapping_dict = {3: 2, 8: 3, 32: 4, 33: 5, 35: 6, 256: 7, 1280: 8}\n",
    "\n",
    "scada_df['Turbine status'] = scada_df['Turbine status'].replace(mapping_dict)\n",
    "#print(scada_df[\"Log Time\"].isna().sum())\n",
    "\n",
    "split_df = scada_df[\"Log Time\"].str.split(',', expand=True)\n",
    "\n",
    "scada_df.set_index(split_df[0], inplace=True)\n",
    "scada_df.drop(columns=['Log Time'], inplace=True)\n",
    "\n",
    "\n",
    "train_size = int(len(scada_df) * 0.8)\n",
    "train, test = scada_df.iloc[:train_size], scada_df.iloc[train_size:]\n",
    "\n",
    "Xtr = train.loc[:, ~scada_df.columns.isin(['Turbine status'])].values\n",
    "ytr = train.loc[:, ['Turbine status']]\n",
    "\n",
    "Xts = test.loc[:, ~scada_df.columns.isin(['Turbine status'])].values\n",
    "yts = test.loc[:, ['Turbine status']]\n",
    "\n",
    "sc = StandardScaler()\n",
    "Xtr = sc.fit_transform(Xtr)\n",
    "Xts = sc.transform(Xts)\n",
    "\n",
    "n_steps = 20 #10 steps equal 10 minutes approx\n",
    "n_features = 26\n",
    "\n",
    "stack = np.zeros(shape=(len(Xtr) - n_steps, n_steps, n_features))\n",
    "\n",
    "for idx in range(len(Xtr) - n_steps - 1):\n",
    "    stack[idx] = np.vstack([Xtr[idx + x] for x in range(n_steps)])\n",
    "    \n",
    "ytr = ytr[n_steps:]\n",
    "for i in np.unique(ytr):\n",
    "    print(i)\n",
    "\n",
    "model = Sequential()\n",
    "model.add(LSTM(500, activation='relu', input_shape=(n_steps, n_features)))\n",
    "#model.add(LSTM(100, return_sequences=False, activation='relu', input_shape=(n_steps, n_features)))\n",
    "#model.add(LSTM(20, return_sequences=False, activation='relu', input_shape=(n_steps, n_features)))\n",
    "model.add(Dense(10, activation=\"softmax\"))\n",
    "model.compile(optimizer='adam', loss='sparse_categorical_crossentropy', metrics=['accuracy'])\n",
    "\n",
    "from tensorflow.keras.callbacks import Callback\n",
    "\n",
    "class NaNDebugger(Callback):\n",
    "    def on_batch_end(self, batch, logs=None):\n",
    "        if logs.get('loss') is not None and np.isnan(logs.get('loss')):\n",
    "            print(f'Batch {batch}: Invalid loss, terminating training')\n",
    "            self.model.stop_training = True\n",
    "\n",
    "model.fit(stack, ytr, epochs=2, callbacks=[NaNDebugger()])\n",
    "\n",
    "\n",
    "#model.fit(stack, ytr, epochs=20, verbose=1)\n",
    "\n",
    "test_stack = np.zeros(shape=(500, n_steps, n_features))\n",
    "times = []\n",
    "\n",
    "val = n_steps\n",
    "for idx in range(500):\n",
    "    test_stack[idx] = np.vstack([Xts[idx + x] for x in range(n_steps)])\n",
    "    times.append(yts.index[val+idx])\n",
    "times = np.array(times).reshape(-1, 1)\n",
    "y_pred = model.predict(test_stack)\n",
    "\n",
    "y_pred = np.argmax(y_pred, axis=1)\n",
    "y_pred = y_pred.reshape(-1, 1)\n",
    "\n",
    "final_ans = np.hstack((times, y_pred))\n",
    "\n",
    "model.save(\"bigData.h5\")\n",
    "\n",
    "with open('model.pkl', 'wb') as file:\n",
    "    pickle.dump(model, file)"
   ]
  }
 ],
 "metadata": {
  "kernelspec": {
   "display_name": "Python 3 (ipykernel)",
   "language": "python",
   "name": "python3"
  }
 },
 "nbformat": 4,
 "nbformat_minor": 2
}
